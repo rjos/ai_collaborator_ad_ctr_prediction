{
 "cells": [
  {
   "cell_type": "markdown",
   "id": "529def0f-bb82-429c-9f98-778e367bf5ab",
   "metadata": {},
   "source": [
    "# Advertisement CTR Prediction\n",
    "\n",
    "The Advertisement CTR Prediction challenge is to predict the Click-Through Rate (CTR) for advertisements using the dataset [2020-digix-advertisement-ctr-prediction](https://www.kaggle.com/datasets/louischen7/2020-digix-advertisement-ctr-prediction).\n",
    "\n",
    "The goal of this Jupyter Notebook is to build and evaluate differents Machine Learning Models for the Click-Through Rate Prediction. "
   ]
  },
  {
   "cell_type": "code",
   "execution_count": 1,
   "id": "68a53bab-6a82-4efc-8857-4710e97cbedb",
   "metadata": {},
   "outputs": [
    {
     "name": "stderr",
     "output_type": "stream",
     "text": [
      "/home/rsoares/anaconda3/envs/ai_collaborator_ctr/lib/python3.9/site-packages/tqdm/auto.py:21: TqdmWarning: IProgress not found. Please update jupyter and ipywidgets. See https://ipywidgets.readthedocs.io/en/stable/user_install.html\n",
      "  from .autonotebook import tqdm as notebook_tqdm\n"
     ]
    }
   ],
   "source": [
    "# Append local development on system path\n",
    "import sys\n",
    "sys.path.append('../../')\n",
    "\n",
    "# Data Manipulation\n",
    "from src.data.build_data import load_data\n",
    "import pandas as pd\n",
    "import numpy as np\n",
    "\n",
    "# Visualization\n",
    "import matplotlib.pyplot as plt\n",
    "\n",
    "# Machine Learning\n",
    "from sklearn.metrics import roc_auc_score, roc_curve, confusion_matrix, ConfusionMatrixDisplay, classification_report\n",
    "from sklearn.model_selection import StratifiedKFold, cross_validate, train_test_split\n",
    "from sklearn.ensemble import RandomForestClassifier\n",
    "from sklearn.tree import DecisionTreeClassifier\n",
    "from src.model.build_model import make_pipeline\n",
    "from lightgbm import LGBMClassifier"
   ]
  },
  {
   "cell_type": "markdown",
   "id": "0b86b4e6-f897-41be-99b1-c1f0fba2a03c",
   "metadata": {},
   "source": [
    "---\n",
    "# Load dataset"
   ]
  },
  {
   "cell_type": "code",
   "execution_count": 2,
   "id": "abf21e2e-92e2-419c-815b-49831ff8b1a7",
   "metadata": {},
   "outputs": [],
   "source": [
    "dataset_path = '../../data/processed/eda_train_data.csv'\n",
    "chunk_size = 100_000"
   ]
  },
  {
   "cell_type": "code",
   "execution_count": 3,
   "id": "436442b7-5ad8-4087-9136-ae16df9dd759",
   "metadata": {},
   "outputs": [
    {
     "name": "stderr",
     "output_type": "stream",
     "text": [
      "9it [00:37,  4.16s/it]\n"
     ]
    }
   ],
   "source": [
    "dataset_df = load_data(dataset_path, chunk_size=chunk_size)"
   ]
  },
  {
   "cell_type": "code",
   "execution_count": 4,
   "id": "fa03883d-90b1-4cd6-8ad8-9558bafb058a",
   "metadata": {},
   "outputs": [
    {
     "data": {
      "text/plain": [
       "(833616, 898)"
      ]
     },
     "execution_count": 4,
     "metadata": {},
     "output_type": "execute_result"
    }
   ],
   "source": [
    "dataset_df.shape"
   ]
  },
  {
   "cell_type": "markdown",
   "id": "3560b184-1652-43e7-bbb6-27be732c17f3",
   "metadata": {},
   "source": [
    "---\n",
    "# Split dataset\n",
    "\n",
    "As the dataset contains 833.616, I choose use `train_test_split` method for split dataset in two pieces:\n",
    "* *Cross Validation Set* - A dataset used to select the best parameters for all machine learning models.\n",
    "* *Blind Set* - A dataset used to measure the model performance into a simulate deployment stage.\n",
    "\n",
    "The data is splitted using a stratified approach to maintain the probability distribution of `label` column.\n",
    "\n",
    "The ***Blind Set*** contains 30% of the original dataset. "
   ]
  },
  {
   "cell_type": "code",
   "execution_count": 5,
   "id": "05f532b5-66a9-4838-952e-7f4c31cce7c9",
   "metadata": {},
   "outputs": [],
   "source": [
    "X = dataset_df[dataset_df.columns.difference(['label'])]\n",
    "y = dataset_df['label']"
   ]
  },
  {
   "cell_type": "code",
   "execution_count": 6,
   "id": "ed86cfc0-cbaf-4937-8d95-2c754501e7be",
   "metadata": {},
   "outputs": [],
   "source": [
    "X_cross, X_blind, y_cross, y_blind = train_test_split(X, y, test_size=.3, random_state=42, stratify=y)"
   ]
  },
  {
   "cell_type": "markdown",
   "id": "e01e1d69-c22f-44a7-a0c6-2d8e9566e65e",
   "metadata": {},
   "source": [
    "---\n",
    "# Model Training\n",
    "\n",
    "In this stage I will perform model training and evaluate it to predict the Click-Through Rate. \n",
    "\n",
    "I chose evaluate 3 machine learning models:\n",
    "* Decision Tree - A base model that make decision based on simple rules inferred from data features.\n",
    "* Random Forest - An ensemble of decision trees for improved prediction accuracy using randomness to avoid overfitting.\n",
    "* LGBM - A gradient boosting framework that uses tree-based learning algorithms for high efficiency and handling large-scale data."
   ]
  },
  {
   "cell_type": "markdown",
   "id": "d6c39d1e-33d2-4816-9ed5-01d870b0a870",
   "metadata": {},
   "source": [
    "Since there is a lot of data, using a 10-fold cross-validation is a good choice to gather more results and have greater statistical confidence in the analyses"
   ]
  },
  {
   "cell_type": "code",
   "execution_count": 7,
   "id": "f273272c-e93b-4223-bd17-66052b86d544",
   "metadata": {},
   "outputs": [],
   "source": [
    "kfold = StratifiedKFold(n_splits=10, shuffle=True, random_state=42)"
   ]
  },
  {
   "cell_type": "markdown",
   "id": "2dff01e1-1ab2-4d24-a62a-33e3c7bef954",
   "metadata": {},
   "source": [
    "As the Click-Through Rate Prediction is a binary and unbalanced problem use metrics like `accuracy` is not a good idea, because the skewness of the class-label affect the evaluation process.\n",
    "\n",
    "To avoid this kind of problem I chose the `Area Under the Curve (AUC)` metric to evaluate model's performance. The AUC takes the True Positive Rate (TPR) and False Positive Rate (FPR).\n",
    "* TPR - When the model predicted an adv click and the model is correct.\n",
    "* FPR - When the model predicted an adv click and the model is not correct."
   ]
  },
  {
   "cell_type": "markdown",
   "id": "7ecee907-cc27-497e-b15e-aebe0d8b7d4e",
   "metadata": {},
   "source": [
    "### Decision Tree Model"
   ]
  },
  {
   "cell_type": "code",
   "execution_count": 8,
   "id": "482a708c-c891-44c7-8bc2-3017702d6145",
   "metadata": {},
   "outputs": [
    {
     "name": "stdout",
     "output_type": "stream",
     "text": [
      "[CV] END ......................................., score=0.519 total time=  32.0s\n",
      "[CV] END ......................................., score=0.517 total time=  33.1s\n",
      "[CV] END ......................................., score=0.523 total time=  33.6s\n",
      "[CV] END ......................................., score=0.527 total time=  32.7s\n",
      "[CV] END ......................................., score=0.525 total time=  33.0s\n",
      "[CV] END ......................................., score=0.521 total time=  33.1s\n",
      "[CV] END ......................................., score=0.523 total time=  32.7s\n",
      "[CV] END ......................................., score=0.516 total time=  33.3s\n",
      "[CV] END ......................................., score=0.524 total time=  32.4s\n",
      "[CV] END ......................................., score=0.526 total time=  30.8s\n"
     ]
    }
   ],
   "source": [
    "decision_tree_classifier = DecisionTreeClassifier(random_state=1221)\n",
    "decision_tree_pipeline = make_pipeline(decision_tree_classifier)\n",
    "decision_tree_results = cross_validate(decision_tree_pipeline, X_cross, y_cross, verbose=4, cv=kfold, scoring='roc_auc')"
   ]
  },
  {
   "cell_type": "code",
   "execution_count": 9,
   "id": "6b908a61-3650-4690-994a-df8f25be80ce",
   "metadata": {},
   "outputs": [],
   "source": [
    "decision_tree_results_df = pd.DataFrame(decision_tree_results)\n",
    "decision_tree_results_df['model'] = 'Decision Tree'"
   ]
  },
  {
   "cell_type": "markdown",
   "id": "cb4f3b0a-7a50-4308-b7a6-5224febefdc5",
   "metadata": {},
   "source": [
    "### Random Forest Model"
   ]
  },
  {
   "cell_type": "code",
   "execution_count": 10,
   "id": "76ba3fd4-ee9d-4901-9d93-9bd7f1f68b5d",
   "metadata": {},
   "outputs": [
    {
     "name": "stdout",
     "output_type": "stream",
     "text": [
      "[CV] END ......................................., score=0.592 total time=  20.7s\n",
      "[CV] END ......................................., score=0.599 total time=  21.3s\n",
      "[CV] END ......................................., score=0.579 total time=  22.5s\n",
      "[CV] END ......................................., score=0.584 total time=  20.8s\n",
      "[CV] END ......................................., score=0.597 total time=  20.9s\n",
      "[CV] END ......................................., score=0.584 total time=  22.1s\n",
      "[CV] END ......................................., score=0.590 total time=  21.1s\n",
      "[CV] END ......................................., score=0.586 total time=  20.9s\n",
      "[CV] END ......................................., score=0.589 total time=  22.5s\n",
      "[CV] END ......................................., score=0.588 total time=  21.9s\n"
     ]
    }
   ],
   "source": [
    "random_forest_classifier = RandomForestClassifier(n_estimators=10, random_state=1221, n_jobs=4)\n",
    "random_forest_pipeline = make_pipeline(random_forest_classifier)\n",
    "random_forest_results = cross_validate(random_forest_pipeline, X_cross, y_cross, verbose=4, cv=kfold, scoring='roc_auc')"
   ]
  },
  {
   "cell_type": "code",
   "execution_count": 11,
   "id": "8b024be4-2ab6-462c-b671-54197f7a5fb4",
   "metadata": {},
   "outputs": [],
   "source": [
    "random_forest_results_df = pd.DataFrame(random_forest_results)\n",
    "random_forest_results_df['model'] = 'Random Forest'"
   ]
  },
  {
   "cell_type": "markdown",
   "id": "2a4a2b14-e9bf-4f72-aae6-da74922d48b9",
   "metadata": {},
   "source": [
    "### Light GBM Model"
   ]
  },
  {
   "cell_type": "code",
   "execution_count": 12,
   "id": "a061fe0d-01e0-4089-9e79-1453f558731f",
   "metadata": {},
   "outputs": [
    {
     "name": "stdout",
     "output_type": "stream",
     "text": [
      "[CV] END ......................................., score=0.701 total time=  27.1s\n",
      "[CV] END ......................................., score=0.711 total time=  20.5s\n",
      "[CV] END ......................................., score=0.706 total time=  21.0s\n",
      "[CV] END ......................................., score=0.703 total time=  19.9s\n",
      "[CV] END ......................................., score=0.715 total time=  20.4s\n",
      "[CV] END ......................................., score=0.701 total time=  20.1s\n",
      "[CV] END ......................................., score=0.705 total time=  20.8s\n",
      "[CV] END ......................................., score=0.710 total time=  21.4s\n",
      "[CV] END ......................................., score=0.705 total time=  20.1s\n",
      "[CV] END ......................................., score=0.704 total time=  20.0s\n"
     ]
    }
   ],
   "source": [
    "lgbm_classifier = LGBMClassifier(seed=1221)\n",
    "lgbm_pipeline = make_pipeline(lgbm_classifier)\n",
    "lgbm_results = cross_validate(lgbm_pipeline, X_cross, y_cross, verbose=4, cv=kfold, scoring='roc_auc')"
   ]
  },
  {
   "cell_type": "code",
   "execution_count": 13,
   "id": "977e21f3-4d28-48fe-8e48-0bae93b4fd03",
   "metadata": {},
   "outputs": [],
   "source": [
    "lgbm_results_df = pd.DataFrame(lgbm_results)\n",
    "lgbm_results_df['model'] = 'Light GBM'"
   ]
  },
  {
   "cell_type": "markdown",
   "id": "544536b0-0a7f-4248-86f2-40cd6f010181",
   "metadata": {},
   "source": [
    "# Comparing model performance\n",
    "\n",
    "As we can see below, the LGBM model achieve better results. In average, LGBM achieve 70% of AUC. The result is almost 12% better than Random Forest and almost 18% better than Decision Tree.\n",
    "\n",
    "Observation:\n",
    "* In the evaluation I use the same number os estimators in Random Forest and LGBM.\n",
    "* The results are achieved using the default hyperparameters of each model.\n",
    "* I did not use hyperparameter optimization approach. Those methods have a huge time cost and I did avoid that in this stage.\n",
    "\n",
    "**Tip💡**: To achieve better results one approach is use a hyperparameter optimization like **Bayesian Optimization**."
   ]
  },
  {
   "cell_type": "code",
   "execution_count": 14,
   "id": "63214d19-1964-4fb7-92f9-6852f9789dcf",
   "metadata": {},
   "outputs": [],
   "source": [
    "model_results_df = pd.concat([decision_tree_results_df, random_forest_results_df, lgbm_results_df])"
   ]
  },
  {
   "cell_type": "code",
   "execution_count": 15,
   "id": "a127ea24-ce2a-40b3-bdde-4bd2e4bd7096",
   "metadata": {},
   "outputs": [
    {
     "data": {
      "text/html": [
       "<div>\n",
       "<style scoped>\n",
       "    .dataframe tbody tr th:only-of-type {\n",
       "        vertical-align: middle;\n",
       "    }\n",
       "\n",
       "    .dataframe tbody tr th {\n",
       "        vertical-align: top;\n",
       "    }\n",
       "\n",
       "    .dataframe thead th {\n",
       "        text-align: right;\n",
       "    }\n",
       "</style>\n",
       "<table border=\"1\" class=\"dataframe\">\n",
       "  <thead>\n",
       "    <tr style=\"text-align: right;\">\n",
       "      <th></th>\n",
       "      <th>mean</th>\n",
       "      <th>std</th>\n",
       "    </tr>\n",
       "    <tr>\n",
       "      <th>model</th>\n",
       "      <th></th>\n",
       "      <th></th>\n",
       "    </tr>\n",
       "  </thead>\n",
       "  <tbody>\n",
       "    <tr>\n",
       "      <th>Decision Tree</th>\n",
       "      <td>0.522116</td>\n",
       "      <td>0.003842</td>\n",
       "    </tr>\n",
       "    <tr>\n",
       "      <th>Light GBM</th>\n",
       "      <td>0.706060</td>\n",
       "      <td>0.004568</td>\n",
       "    </tr>\n",
       "    <tr>\n",
       "      <th>Random Forest</th>\n",
       "      <td>0.588752</td>\n",
       "      <td>0.006087</td>\n",
       "    </tr>\n",
       "  </tbody>\n",
       "</table>\n",
       "</div>"
      ],
      "text/plain": [
       "                   mean       std\n",
       "model                            \n",
       "Decision Tree  0.522116  0.003842\n",
       "Light GBM      0.706060  0.004568\n",
       "Random Forest  0.588752  0.006087"
      ]
     },
     "execution_count": 15,
     "metadata": {},
     "output_type": "execute_result"
    }
   ],
   "source": [
    "model_results_df.groupby('model')['test_score'].agg(['mean', 'std'])"
   ]
  },
  {
   "cell_type": "code",
   "execution_count": 16,
   "id": "1467ca4f-f732-4574-9794-0e9afca1aa6c",
   "metadata": {},
   "outputs": [
    {
     "data": {
      "text/plain": [
       "<Axes: title={'center': 'test_score'}, xlabel='model'>"
      ]
     },
     "execution_count": 16,
     "metadata": {},
     "output_type": "execute_result"
    },
    {
     "data": {
      "image/png": "[encoded data removed]",
      "text/plain": [
       "<Figure size 1200x600 with 1 Axes>"
      ]
     },
     "metadata": {},
     "output_type": "display_data"
    }
   ],
   "source": [
    "model_results_df.boxplot(by='model', column='test_score', figsize=(12, 6))"
   ]
  },
  {
   "cell_type": "markdown",
   "id": "620710bb-1447-46a5-a31d-8d20dc6d6ee4",
   "metadata": {},
   "source": [
    "# Evaluate LGBM Model over Blind Set\n",
    "\n",
    "Once the LGBM is the better model, we can measure the model performance over the `Blind Set`. To do that I will do the following steps:\n",
    "\n",
    "1. Set the LGBM pipeline\n",
    "2. Train the LGMB over the whole `Cross Validation Set`\n",
    "3. Predict the `class-label` for each example in `Blind Set`\n",
    "4. Measure the Model Performance using the `AUC`\n",
    "5. Plot the ROC Curve and Find the Best Threshold Probability\n",
    "6. Adjust prediction based on Best Threshold Probability\n",
    "7. Plot the Confusion Matrix and Classification Report"
   ]
  },
  {
   "cell_type": "markdown",
   "id": "af43ffe4-0bbf-4470-91c1-aab7d9cad533",
   "metadata": {},
   "source": [
    "### 1. Set the LGMB pipeline"
   ]
  },
  {
   "cell_type": "code",
   "execution_count": 17,
   "id": "927842e0-4770-4a10-b1c0-542d9f993869",
   "metadata": {},
   "outputs": [],
   "source": [
    "lgbm_classifier = LGBMClassifier(seed=1221)\n",
    "lgbm_pipeline = make_pipeline(lgbm_classifier)"
   ]
  },
  {
   "cell_type": "markdown",
   "id": "388051a7-ba7a-498e-838c-c4adb0088097",
   "metadata": {},
   "source": [
    "### 2. Train the LGMB over the whole `Cross Validation Set`"
   ]
  },
  {
   "cell_type": "code",
   "execution_count": 18,
   "id": "29a9e883-390b-4e63-9840-9659e8e35c48",
   "metadata": {},
   "outputs": [
    {
     "data": {
      "text/html": [
       "<style>#sk-container-id-1 {\n",
       "  /* Definition of color scheme common for light and dark mode */\n",
       "  --sklearn-color-text: black;\n",
       "  --sklearn-color-line: gray;\n",
       "  /* Definition of color scheme for unfitted estimators */\n",
       "  --sklearn-color-unfitted-level-0: #fff5e6;\n",
       "  --sklearn-color-unfitted-level-1: #f6e4d2;\n",
       "  --sklearn-color-unfitted-level-2: #ffe0b3;\n",
       "  --sklearn-color-unfitted-level-3: chocolate;\n",
       "  /* Definition of color scheme for fitted estimators */\n",
       "  --sklearn-color-fitted-level-0: #f0f8ff;\n",
       "  --sklearn-color-fitted-level-1: #d4ebff;\n",
       "  --sklearn-color-fitted-level-2: #b3dbfd;\n",
       "  --sklearn-color-fitted-level-3: cornflowerblue;\n",
       "\n",
       "  /* Specific color for light theme */\n",
       "  --sklearn-color-text-on-default-background: var(--sg-text-color, var(--theme-code-foreground, var(--jp-content-font-color1, black)));\n",
       "  --sklearn-color-background: var(--sg-background-color, var(--theme-background, var(--jp-layout-color0, white)));\n",
       "  --sklearn-color-border-box: var(--sg-text-color, var(--theme-code-foreground, var(--jp-content-font-color1, black)));\n",
       "  --sklearn-color-icon: #696969;\n",
       "\n",
       "  @media (prefers-color-scheme: dark) {\n",
       "    /* Redefinition of color scheme for dark theme */\n",
       "    --sklearn-color-text-on-default-background: var(--sg-text-color, var(--theme-code-foreground, var(--jp-content-font-color1, white)));\n",
       "    --sklearn-color-background: var(--sg-background-color, var(--theme-background, var(--jp-layout-color0, #111)));\n",
       "    --sklearn-color-border-box: var(--sg-text-color, var(--theme-code-foreground, var(--jp-content-font-color1, white)));\n",
       "    --sklearn-color-icon: #878787;\n",
       "  }\n",
       "}\n",
       "\n",
       "#sk-container-id-1 {\n",
       "  color: var(--sklearn-color-text);\n",
       "}\n",
       "\n",
       "#sk-container-id-1 pre {\n",
       "  padding: 0;\n",
       "}\n",
       "\n",
       "#sk-container-id-1 input.sk-hidden--visually {\n",
       "  border: 0;\n",
       "  clip: rect(1px 1px 1px 1px);\n",
       "  clip: rect(1px, 1px, 1px, 1px);\n",
       "  height: 1px;\n",
       "  margin: -1px;\n",
       "  overflow: hidden;\n",
       "  padding: 0;\n",
       "  position: absolute;\n",
       "  width: 1px;\n",
       "}\n",
       "\n",
       "#sk-container-id-1 div.sk-dashed-wrapped {\n",
       "  border: 1px dashed var(--sklearn-color-line);\n",
       "  margin: 0 0.4em 0.5em 0.4em;\n",
       "  box-sizing: border-box;\n",
       "  padding-bottom: 0.4em;\n",
       "  background-color: var(--sklearn-color-background);\n",
       "}\n",
       "\n",
       "#sk-container-id-1 div.sk-container {\n",
       "  /* jupyter's `normalize.less` sets `[hidden] { display: none; }`\n",
       "     but bootstrap.min.css set `[hidden] { display: none !important; }`\n",
       "     so we also need the `!important` here to be able to override the\n",
       "     default hidden behavior on the sphinx rendered scikit-learn.org.\n",
       "     See: https://github.com/scikit-learn/scikit-learn/issues/21755 */\n",
       "  display: inline-block !important;\n",
       "  position: relative;\n",
       "}\n",
       "\n",
       "#sk-container-id-1 div.sk-text-repr-fallback {\n",
       "  display: none;\n",
       "}\n",
       "\n",
       "div.sk-parallel-item,\n",
       "div.sk-serial,\n",
       "div.sk-item {\n",
       "  /* draw centered vertical line to link estimators */\n",
       "  background-image: linear-gradient(var(--sklearn-color-text-on-default-background), var(--sklearn-color-text-on-default-background));\n",
       "  background-size: 2px 100%;\n",
       "  background-repeat: no-repeat;\n",
       "  background-position: center center;\n",
       "}\n",
       "\n",
       "/* Parallel-specific style estimator block */\n",
       "\n",
       "#sk-container-id-1 div.sk-parallel-item::after {\n",
       "  content: \"\";\n",
       "  width: 100%;\n",
       "  border-bottom: 2px solid var(--sklearn-color-text-on-default-background);\n",
       "  flex-grow: 1;\n",
       "}\n",
       "\n",
       "#sk-container-id-1 div.sk-parallel {\n",
       "  display: flex;\n",
       "  align-items: stretch;\n",
       "  justify-content: center;\n",
       "  background-color: var(--sklearn-color-background);\n",
       "  position: relative;\n",
       "}\n",
       "\n",
       "#sk-container-id-1 div.sk-parallel-item {\n",
       "  display: flex;\n",
       "  flex-direction: column;\n",
       "}\n",
       "\n",
       "#sk-container-id-1 div.sk-parallel-item:first-child::after {\n",
       "  align-self: flex-end;\n",
       "  width: 50%;\n",
       "}\n",
       "\n",
       "#sk-container-id-1 div.sk-parallel-item:last-child::after {\n",
       "  align-self: flex-start;\n",
       "  width: 50%;\n",
       "}\n",
       "\n",
       "#sk-container-id-1 div.sk-parallel-item:only-child::after {\n",
       "  width: 0;\n",
       "}\n",
       "\n",
       "/* Serial-specific style estimator block */\n",
       "\n",
       "#sk-container-id-1 div.sk-serial {\n",
       "  display: flex;\n",
       "  flex-direction: column;\n",
       "  align-items: center;\n",
       "  background-color: var(--sklearn-color-background);\n",
       "  padding-right: 1em;\n",
       "  padding-left: 1em;\n",
       "}\n",
       "\n",
       "\n",
       "/* Toggleable style: style used for estimator/Pipeline/ColumnTransformer box that is\n",
       "clickable and can be expanded/collapsed.\n",
       "- Pipeline and ColumnTransformer use this feature and define the default style\n",
       "- Estimators will overwrite some part of the style using the `sk-estimator` class\n",
       "*/\n",
       "\n",
       "/* Pipeline and ColumnTransformer style (default) */\n",
       "\n",
       "#sk-container-id-1 div.sk-toggleable {\n",
       "  /* Default theme specific background. It is overwritten whether we have a\n",
       "  specific estimator or a Pipeline/ColumnTransformer */\n",
       "  background-color: var(--sklearn-color-background);\n",
       "}\n",
       "\n",
       "/* Toggleable label */\n",
       "#sk-container-id-1 label.sk-toggleable__label {\n",
       "  cursor: pointer;\n",
       "  display: block;\n",
       "  width: 100%;\n",
       "  margin-bottom: 0;\n",
       "  padding: 0.5em;\n",
       "  box-sizing: border-box;\n",
       "  text-align: center;\n",
       "}\n",
       "\n",
       "#sk-container-id-1 label.sk-toggleable__label-arrow:before {\n",
       "  /* Arrow on the left of the label */\n",
       "  content: \"▸\";\n",
       "  float: left;\n",
       "  margin-right: 0.25em;\n",
       "  color: var(--sklearn-color-icon);\n",
       "}\n",
       "\n",
       "#sk-container-id-1 label.sk-toggleable__label-arrow:hover:before {\n",
       "  color: var(--sklearn-color-text);\n",
       "}\n",
       "\n",
       "/* Toggleable content - dropdown */\n",
       "\n",
       "#sk-container-id-1 div.sk-toggleable__content {\n",
       "  max-height: 0;\n",
       "  max-width: 0;\n",
       "  overflow: hidden;\n",
       "  text-align: left;\n",
       "  /* unfitted */\n",
       "  background-color: var(--sklearn-color-unfitted-level-0);\n",
       "}\n",
       "\n",
       "#sk-container-id-1 div.sk-toggleable__content.fitted {\n",
       "  /* fitted */\n",
       "  background-color: var(--sklearn-color-fitted-level-0);\n",
       "}\n",
       "\n",
       "#sk-container-id-1 div.sk-toggleable__content pre {\n",
       "  margin: 0.2em;\n",
       "  border-radius: 0.25em;\n",
       "  color: var(--sklearn-color-text);\n",
       "  /* unfitted */\n",
       "  background-color: var(--sklearn-color-unfitted-level-0);\n",
       "}\n",
       "\n",
       "#sk-container-id-1 div.sk-toggleable__content.fitted pre {\n",
       "  /* unfitted */\n",
       "  background-color: var(--sklearn-color-fitted-level-0);\n",
       "}\n",
       "\n",
       "#sk-container-id-1 input.sk-toggleable__control:checked~div.sk-toggleable__content {\n",
       "  /* Expand drop-down */\n",
       "  max-height: 200px;\n",
       "  max-width: 100%;\n",
       "  overflow: auto;\n",
       "}\n",
       "\n",
       "#sk-container-id-1 input.sk-toggleable__control:checked~label.sk-toggleable__label-arrow:before {\n",
       "  content: \"▾\";\n",
       "}\n",
       "\n",
       "/* Pipeline/ColumnTransformer-specific style */\n",
       "\n",
       "#sk-container-id-1 div.sk-label input.sk-toggleable__control:checked~label.sk-toggleable__label {\n",
       "  color: var(--sklearn-color-text);\n",
       "  background-color: var(--sklearn-color-unfitted-level-2);\n",
       "}\n",
       "\n",
       "#sk-container-id-1 div.sk-label.fitted input.sk-toggleable__control:checked~label.sk-toggleable__label {\n",
       "  background-color: var(--sklearn-color-fitted-level-2);\n",
       "}\n",
       "\n",
       "/* Estimator-specific style */\n",
       "\n",
       "/* Colorize estimator box */\n",
       "#sk-container-id-1 div.sk-estimator input.sk-toggleable__control:checked~label.sk-toggleable__label {\n",
       "  /* unfitted */\n",
       "  background-color: var(--sklearn-color-unfitted-level-2);\n",
       "}\n",
       "\n",
       "#sk-container-id-1 div.sk-estimator.fitted input.sk-toggleable__control:checked~label.sk-toggleable__label {\n",
       "  /* fitted */\n",
       "  background-color: var(--sklearn-color-fitted-level-2);\n",
       "}\n",
       "\n",
       "#sk-container-id-1 div.sk-label label.sk-toggleable__label,\n",
       "#sk-container-id-1 div.sk-label label {\n",
       "  /* The background is the default theme color */\n",
       "  color: var(--sklearn-color-text-on-default-background);\n",
       "}\n",
       "\n",
       "/* On hover, darken the color of the background */\n",
       "#sk-container-id-1 div.sk-label:hover label.sk-toggleable__label {\n",
       "  color: var(--sklearn-color-text);\n",
       "  background-color: var(--sklearn-color-unfitted-level-2);\n",
       "}\n",
       "\n",
       "/* Label box, darken color on hover, fitted */\n",
       "#sk-container-id-1 div.sk-label.fitted:hover label.sk-toggleable__label.fitted {\n",
       "  color: var(--sklearn-color-text);\n",
       "  background-color: var(--sklearn-color-fitted-level-2);\n",
       "}\n",
       "\n",
       "/* Estimator label */\n",
       "\n",
       "#sk-container-id-1 div.sk-label label {\n",
       "  font-family: monospace;\n",
       "  font-weight: bold;\n",
       "  display: inline-block;\n",
       "  line-height: 1.2em;\n",
       "}\n",
       "\n",
       "#sk-container-id-1 div.sk-label-container {\n",
       "  text-align: center;\n",
       "}\n",
       "\n",
       "/* Estimator-specific */\n",
       "#sk-container-id-1 div.sk-estimator {\n",
       "  font-family: monospace;\n",
       "  border: 1px dotted var(--sklearn-color-border-box);\n",
       "  border-radius: 0.25em;\n",
       "  box-sizing: border-box;\n",
       "  margin-bottom: 0.5em;\n",
       "  /* unfitted */\n",
       "  background-color: var(--sklearn-color-unfitted-level-0);\n",
       "}\n",
       "\n",
       "#sk-container-id-1 div.sk-estimator.fitted {\n",
       "  /* fitted */\n",
       "  background-color: var(--sklearn-color-fitted-level-0);\n",
       "}\n",
       "\n",
       "/* on hover */\n",
       "#sk-container-id-1 div.sk-estimator:hover {\n",
       "  /* unfitted */\n",
       "  background-color: var(--sklearn-color-unfitted-level-2);\n",
       "}\n",
       "\n",
       "#sk-container-id-1 div.sk-estimator.fitted:hover {\n",
       "  /* fitted */\n",
       "  background-color: var(--sklearn-color-fitted-level-2);\n",
       "}\n",
       "\n",
       "/* Specification for estimator info (e.g. \"i\" and \"?\") */\n",
       "\n",
       "/* Common style for \"i\" and \"?\" */\n",
       "\n",
       ".sk-estimator-doc-link,\n",
       "a:link.sk-estimator-doc-link,\n",
       "a:visited.sk-estimator-doc-link {\n",
       "  float: right;\n",
       "  font-size: smaller;\n",
       "  line-height: 1em;\n",
       "  font-family: monospace;\n",
       "  background-color: var(--sklearn-color-background);\n",
       "  border-radius: 1em;\n",
       "  height: 1em;\n",
       "  width: 1em;\n",
       "  text-decoration: none !important;\n",
       "  margin-left: 1ex;\n",
       "  /* unfitted */\n",
       "  border: var(--sklearn-color-unfitted-level-1) 1pt solid;\n",
       "  color: var(--sklearn-color-unfitted-level-1);\n",
       "}\n",
       "\n",
       ".sk-estimator-doc-link.fitted,\n",
       "a:link.sk-estimator-doc-link.fitted,\n",
       "a:visited.sk-estimator-doc-link.fitted {\n",
       "  /* fitted */\n",
       "  border: var(--sklearn-color-fitted-level-1) 1pt solid;\n",
       "  color: var(--sklearn-color-fitted-level-1);\n",
       "}\n",
       "\n",
       "/* On hover */\n",
       "div.sk-estimator:hover .sk-estimator-doc-link:hover,\n",
       ".sk-estimator-doc-link:hover,\n",
       "div.sk-label-container:hover .sk-estimator-doc-link:hover,\n",
       ".sk-estimator-doc-link:hover {\n",
       "  /* unfitted */\n",
       "  background-color: var(--sklearn-color-unfitted-level-3);\n",
       "  color: var(--sklearn-color-background);\n",
       "  text-decoration: none;\n",
       "}\n",
       "\n",
       "div.sk-estimator.fitted:hover .sk-estimator-doc-link.fitted:hover,\n",
       ".sk-estimator-doc-link.fitted:hover,\n",
       "div.sk-label-container:hover .sk-estimator-doc-link.fitted:hover,\n",
       ".sk-estimator-doc-link.fitted:hover {\n",
       "  /* fitted */\n",
       "  background-color: var(--sklearn-color-fitted-level-3);\n",
       "  color: var(--sklearn-color-background);\n",
       "  text-decoration: none;\n",
       "}\n",
       "\n",
       "/* Span, style for the box shown on hovering the info icon */\n",
       ".sk-estimator-doc-link span {\n",
       "  display: none;\n",
       "  z-index: 9999;\n",
       "  position: relative;\n",
       "  font-weight: normal;\n",
       "  right: .2ex;\n",
       "  padding: .5ex;\n",
       "  margin: .5ex;\n",
       "  width: min-content;\n",
       "  min-width: 20ex;\n",
       "  max-width: 50ex;\n",
       "  color: var(--sklearn-color-text);\n",
       "  box-shadow: 2pt 2pt 4pt #999;\n",
       "  /* unfitted */\n",
       "  background: var(--sklearn-color-unfitted-level-0);\n",
       "  border: .5pt solid var(--sklearn-color-unfitted-level-3);\n",
       "}\n",
       "\n",
       ".sk-estimator-doc-link.fitted span {\n",
       "  /* fitted */\n",
       "  background: var(--sklearn-color-fitted-level-0);\n",
       "  border: var(--sklearn-color-fitted-level-3);\n",
       "}\n",
       "\n",
       ".sk-estimator-doc-link:hover span {\n",
       "  display: block;\n",
       "}\n",
       "\n",
       "/* \"?\"-specific style due to the `<a>` HTML tag */\n",
       "\n",
       "#sk-container-id-1 a.estimator_doc_link {\n",
       "  float: right;\n",
       "  font-size: 1rem;\n",
       "  line-height: 1em;\n",
       "  font-family: monospace;\n",
       "  background-color: var(--sklearn-color-background);\n",
       "  border-radius: 1rem;\n",
       "  height: 1rem;\n",
       "  width: 1rem;\n",
       "  text-decoration: none;\n",
       "  /* unfitted */\n",
       "  color: var(--sklearn-color-unfitted-level-1);\n",
       "  border: var(--sklearn-color-unfitted-level-1) 1pt solid;\n",
       "}\n",
       "\n",
       "#sk-container-id-1 a.estimator_doc_link.fitted {\n",
       "  /* fitted */\n",
       "  border: var(--sklearn-color-fitted-level-1) 1pt solid;\n",
       "  color: var(--sklearn-color-fitted-level-1);\n",
       "}\n",
       "\n",
       "/* On hover */\n",
       "#sk-container-id-1 a.estimator_doc_link:hover {\n",
       "  /* unfitted */\n",
       "  background-color: var(--sklearn-color-unfitted-level-3);\n",
       "  color: var(--sklearn-color-background);\n",
       "  text-decoration: none;\n",
       "}\n",
       "\n",
       "#sk-container-id-1 a.estimator_doc_link.fitted:hover {\n",
       "  /* fitted */\n",
       "  background-color: var(--sklearn-color-fitted-level-3);\n",
       "}\n",
       "</style><div id=\"sk-container-id-1\" class=\"sk-top-container\"><div class=\"sk-text-repr-fallback\"><pre>Pipeline(steps=[(&#x27;min_max&#x27;, MinMaxScaler(feature_range=(0.2, 0.8))),\n",
       "                (&#x27;clf&#x27;, LGBMClassifier(objective=&#x27;binary&#x27;, seed=1221))])</pre><b>In a Jupyter environment, please rerun this cell to show the HTML representation or trust the notebook. <br />On GitHub, the HTML representation is unable to render, please try loading this page with nbviewer.org.</b></div><div class=\"sk-container\" hidden><div class=\"sk-item sk-dashed-wrapped\"><div class=\"sk-label-container\"><div class=\"sk-label  sk-toggleable\"><input class=\"sk-toggleable__control sk-hidden--visually\" id=\"sk-estimator-id-1\" type=\"checkbox\" ><label for=\"sk-estimator-id-1\" class=\"sk-toggleable__label  sk-toggleable__label-arrow \">&nbsp;&nbsp;Pipeline<a class=\"sk-estimator-doc-link \" rel=\"noreferrer\" target=\"_blank\" href=\"https://scikit-learn.org/1.5/modules/generated/sklearn.pipeline.Pipeline.html\">?<span>Documentation for Pipeline</span></a><span class=\"sk-estimator-doc-link \">i<span>Not fitted</span></span></label><div class=\"sk-toggleable__content \"><pre>Pipeline(steps=[(&#x27;min_max&#x27;, MinMaxScaler(feature_range=(0.2, 0.8))),\n",
       "                (&#x27;clf&#x27;, LGBMClassifier(objective=&#x27;binary&#x27;, seed=1221))])</pre></div> </div></div><div class=\"sk-serial\"><div class=\"sk-item\"><div class=\"sk-estimator  sk-toggleable\"><input class=\"sk-toggleable__control sk-hidden--visually\" id=\"sk-estimator-id-2\" type=\"checkbox\" ><label for=\"sk-estimator-id-2\" class=\"sk-toggleable__label  sk-toggleable__label-arrow \">&nbsp;MinMaxScaler<a class=\"sk-estimator-doc-link \" rel=\"noreferrer\" target=\"_blank\" href=\"https://scikit-learn.org/1.5/modules/generated/sklearn.preprocessing.MinMaxScaler.html\">?<span>Documentation for MinMaxScaler</span></a></label><div class=\"sk-toggleable__content \"><pre>MinMaxScaler(feature_range=(0.2, 0.8))</pre></div> </div></div><div class=\"sk-item\"><div class=\"sk-estimator  sk-toggleable\"><input class=\"sk-toggleable__control sk-hidden--visually\" id=\"sk-estimator-id-3\" type=\"checkbox\" ><label for=\"sk-estimator-id-3\" class=\"sk-toggleable__label  sk-toggleable__label-arrow \">LGBMClassifier</label><div class=\"sk-toggleable__content \"><pre>LGBMClassifier(objective=&#x27;binary&#x27;, seed=1221)</pre></div> </div></div></div></div></div></div>"
      ],
      "text/plain": [
       "Pipeline(steps=[('min_max', MinMaxScaler(feature_range=(0.2, 0.8))),\n",
       "                ('clf', LGBMClassifier(objective='binary', seed=1221))])"
      ]
     },
     "execution_count": 18,
     "metadata": {},
     "output_type": "execute_result"
    }
   ],
   "source": [
    "lgbm_pipeline.fit(X_cross, y_cross)"
   ]
  },
  {
   "cell_type": "markdown",
   "id": "59c5fac0-a53b-4ad1-be63-08d82027f990",
   "metadata": {},
   "source": [
    "### 3. Predict the `class-label` for each example in `Blind Set`"
   ]
  },
  {
   "cell_type": "code",
   "execution_count": 19,
   "id": "bb9c6150-3cc5-4ce1-807e-4dce502a7382",
   "metadata": {},
   "outputs": [],
   "source": [
    "# The class-label\n",
    "y_blind_pred = lgbm_pipeline.predict(X_blind)\n",
    "\n",
    "# The probability of an example belongs to class 1 (user click)\n",
    "y_blind_pred_score = lgbm_pipeline.predict_proba(X_blind)[:, 1]"
   ]
  },
  {
   "cell_type": "markdown",
   "id": "07ae458c-59f2-4516-8467-def78e92b8c0",
   "metadata": {},
   "source": [
    "### 4. Measure the Model Performance using the `AUC`\n",
    "\n",
    "As we can see below, the `AUC` achieve over the `Blind Set` is very close to the `AUC` achieve over the `Cross Validation Set`"
   ]
  },
  {
   "cell_type": "code",
   "execution_count": 20,
   "id": "31598b11-7be3-41af-b07d-dce0426e4376",
   "metadata": {},
   "outputs": [
    {
     "name": "stdout",
     "output_type": "stream",
     "text": [
      "LGBM: ROC AUC = 0.7060235138647305\n"
     ]
    }
   ],
   "source": [
    "auc = roc_auc_score(y_blind, y_blind_pred_score)\n",
    "print(f'LGBM: ROC AUC = {auc}')"
   ]
  },
  {
   "cell_type": "markdown",
   "id": "3634a3d5-750b-45fe-a471-2aebae1f79eb",
   "metadata": {},
   "source": [
    "### 5. Plot the ROC Curve and Find the Best Threshold Probability\n",
    "\n",
    "In addition to visualizing the ROC curve, we will calculate the ideal threshold for classifying the examples of the blind set. For this, we will use the Geometric Mean. The Geometric Mean or G-Mean is a metric for imbalanced classification that, if optimized, will seek a balance between the sensitivity and the specificity, where:\n",
    "* Sensitivity = True Positive Rate (TPR)\n",
    "* Specificity = 1 – False Positive Rate (FPR)"
   ]
  },
  {
   "cell_type": "code",
   "execution_count": 21,
   "id": "eb8197f0-91a1-48af-acb5-6dc0c1f56788",
   "metadata": {},
   "outputs": [],
   "source": [
    "# Calculate roc curve for LGBM\n",
    "fpr, tpr, thresholds = roc_curve(y_blind, y_blind_pred_score)"
   ]
  },
  {
   "cell_type": "code",
   "execution_count": 22,
   "id": "abec99db-ff50-4bbf-a621-7bae054185e8",
   "metadata": {},
   "outputs": [
    {
     "name": "stdout",
     "output_type": "stream",
     "text": [
      "Best Threshold = 0.2001235091705749, G-Mean = 0.6560243733058118\n"
     ]
    }
   ],
   "source": [
    "# Calculate the g-mean for each threshold\n",
    "gmeans = np.sqrt(tpr * (1-fpr))\n",
    "ix = np.argmax(gmeans)\n",
    "\n",
    "print(f'Best Threshold = {thresholds[ix]}, G-Mean = {gmeans[ix]}')"
   ]
  },
  {
   "cell_type": "code",
   "execution_count": 23,
   "id": "e80efd50-e90f-4de6-84ce-ee734274efe7",
   "metadata": {},
   "outputs": [
    {
     "data": {
      "image/png": "[encoded data removed]",
      "text/plain": [
       "<Figure size 640x480 with 1 Axes>"
      ]
     },
     "metadata": {},
     "output_type": "display_data"
    }
   ],
   "source": [
    "# Plot the ROC Curve and the best threhsold\n",
    "plt.plot([0,1], [0,1], linestyle='--', label='No Skill')\n",
    "plt.plot(fpr, tpr, marker='.', label='LGBM')\n",
    "plt.scatter(fpr[ix], tpr[ix], marker='o', color='black', label='Best Threshold')\n",
    "\n",
    "# axis labels\n",
    "plt.xlabel('False Positive Rate')\n",
    "plt.ylabel('True Positive Rate')\n",
    "plt.legend()\n",
    "\n",
    "# show the plot\n",
    "plt.show()"
   ]
  },
  {
   "cell_type": "markdown",
   "id": "49134288-78cc-4b35-8e74-af66569092f6",
   "metadata": {},
   "source": [
    "### 6. Adjust prediction based on Best Threshold Probability\n",
    "\n",
    "Based on the best threshold probability I will change the prediction of each example of `Blind Set`"
   ]
  },
  {
   "cell_type": "code",
   "execution_count": 24,
   "id": "43f5ce34-709e-4914-9d39-d918f0095d37",
   "metadata": {},
   "outputs": [],
   "source": [
    "mask = (y_blind_pred_score >= thresholds[ix])\n",
    "\n",
    "y_blind_pred[mask] = 1\n",
    "y_blind_pred[~mask] = 0"
   ]
  },
  {
   "cell_type": "markdown",
   "id": "203098bb-b798-4d37-9a36-17af32c26acc",
   "metadata": {},
   "source": [
    "### 7. Plot the Confusion Matrix and Classification Report\n",
    "\n",
    "Based on the confusion matrix below, we can see that the LGBM model can predict both `class-label` well. Thus, we were able to prevent the issue of data imbalance from affecting the model's prediction.\n",
    "\n",
    "Analysing the `Classification Report`, we can see that we need improve the quality of our model to achieve a better precision and f1-score for the minority `class-label`. \n",
    "\n",
    "**Tip** 💡: Improving the feature engineering process and apply a hyperparameters optimization are alternatives to improve the quality of the model."
   ]
  },
  {
   "cell_type": "code",
   "execution_count": 25,
   "id": "f16b5d08-444d-47ae-ae8d-198759bb9097",
   "metadata": {},
   "outputs": [
    {
     "data": {
      "text/plain": [
       "<sklearn.metrics._plot.confusion_matrix.ConfusionMatrixDisplay at 0x7fa2154fc6d0>"
      ]
     },
     "execution_count": 25,
     "metadata": {},
     "output_type": "execute_result"
    },
    {
     "data": {
      "image/png": "[encoded data removed]",
      "text/plain": [
       "<Figure size 640x480 with 2 Axes>"
      ]
     },
     "metadata": {},
     "output_type": "display_data"
    }
   ],
   "source": [
    "# Calculate the confusion matrix and plot them\n",
    "cm = confusion_matrix(y_blind, y_blind_pred, normalize='true')\n",
    "ConfusionMatrixDisplay(cm).plot()"
   ]
  },
  {
   "cell_type": "code",
   "execution_count": 26,
   "id": "1452ee71-bea7-47fe-be90-c5dcfd182c39",
   "metadata": {},
   "outputs": [
    {
     "name": "stdout",
     "output_type": "stream",
     "text": [
      "              precision    recall  f1-score   support\n",
      "\n",
      "           0       0.98      0.67      0.80    241443\n",
      "           1       0.07      0.64      0.12      8642\n",
      "\n",
      "    accuracy                           0.67    250085\n",
      "   macro avg       0.52      0.66      0.46    250085\n",
      "weighted avg       0.95      0.67      0.77    250085\n",
      "\n"
     ]
    }
   ],
   "source": [
    "print(classification_report(y_blind, y_blind_pred))"
   ]
  }
 ],
 "metadata": {
  "kernelspec": {
   "display_name": "Python 3 (ipykernel)",
   "language": "python",
   "name": "python3"
  },
  "language_info": {
   "codemirror_mode": {
    "name": "ipython",
    "version": 3
   },
   "file_extension": ".py",
   "mimetype": "text/x-python",
   "name": "python",
   "nbconvert_exporter": "python",
   "pygments_lexer": "ipython3",
   "version": "3.9.19"
  }
 },
 "nbformat": 4,
 "nbformat_minor": 5
}
