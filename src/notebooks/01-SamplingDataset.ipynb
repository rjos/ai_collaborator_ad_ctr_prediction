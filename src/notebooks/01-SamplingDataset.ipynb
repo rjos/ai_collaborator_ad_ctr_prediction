{
 "cells": [
  {
   "cell_type": "markdown",
   "id": "5be2dcfa-c52b-4012-8fc3-6cd5d5ab7dab",
   "metadata": {},
   "source": [
    "# Advertisement CTR Prediction\n",
    "\n",
    "The Advertisement CTR Prediction challenge is to predict the Click-Through Rate (CTR) for advertisements using the dataset [2020-digix-advertisement-ctr-prediction](https://www.kaggle.com/datasets/louischen7/2020-digix-advertisement-ctr-prediction).\n",
    "\n",
    "The objective of this Jupyter Notebook is to choose a random sampling rows of the provided dataset."
   ]
  },
  {
   "cell_type": "markdown",
   "id": "c957daff-b035-4d73-b767-9a2520ed1f94",
   "metadata": {},
   "source": [
    "---\n",
    "## Imports"
   ]
  },
  {
   "cell_type": "code",
   "execution_count": 1,
   "id": "7499d837-e28c-4905-a3eb-dfea022369aa",
   "metadata": {},
   "outputs": [
    {
     "name": "stderr",
     "output_type": "stream",
     "text": [
      "/home/rsoares/anaconda3/envs/ai_collaborator_ctr/lib/python3.9/site-packages/tqdm/auto.py:21: TqdmWarning: IProgress not found. Please update jupyter and ipywidgets. See https://ipywidgets.readthedocs.io/en/stable/user_install.html\n",
      "  from .autonotebook import tqdm as notebook_tqdm\n"
     ]
    }
   ],
   "source": [
    "# Append local development on system path\n",
    "import sys\n",
    "sys.path.append('../../')\n",
    "\n",
    "# Data Manipulation\n",
    "from src.data.build_data import load_data\n",
    "\n",
    "# Others\n",
    "import os"
   ]
  },
  {
   "cell_type": "markdown",
   "id": "f3e07b84-65c4-4cc4-9351-6e8f3743c14b",
   "metadata": {},
   "source": [
    "---\n",
    "## Load dataset"
   ]
  },
  {
   "cell_type": "code",
   "execution_count": 2,
   "id": "e50b519a-2e71-434d-af35-27f8833f0daf",
   "metadata": {},
   "outputs": [],
   "source": [
    "# Set dataset path\n",
    "dataset_path = '../../data/raw/train_data.csv'\n",
    "\n",
    "# Set chunk_size\n",
    "chunk_size = 1_000_000\n",
    "\n",
    "# Random sample factor\n",
    "frac_sample = .02 # 2% of the rows"
   ]
  },
  {
   "cell_type": "code",
   "execution_count": 3,
   "id": "a8489e1e-5ebf-4a92-b50c-13ce4b407470",
   "metadata": {},
   "outputs": [
    {
     "name": "stderr",
     "output_type": "stream",
     "text": [
      "42it [01:18,  1.87s/it]\n"
     ]
    }
   ],
   "source": [
    "dataset_df = load_data(dataset_path, separator=\"|\", chunk_size=chunk_size, frac_sample=frac_sample)"
   ]
  },
  {
   "cell_type": "code",
   "execution_count": 4,
   "id": "d365a21a-1c41-4334-820f-c402eebf0700",
   "metadata": {},
   "outputs": [
    {
     "name": "stdout",
     "output_type": "stream",
     "text": [
      "<class 'pandas.core.frame.DataFrame'>\n",
      "RangeIndex: 838143 entries, 0 to 838142\n",
      "Data columns (total 36 columns):\n",
      " #   Column                       Non-Null Count   Dtype \n",
      "---  ------                       --------------   ----- \n",
      " 0   label                        838143 non-null  int8  \n",
      " 1   uid                          838143 non-null  int32 \n",
      " 2   task_id                      838143 non-null  int16 \n",
      " 3   adv_id                       838143 non-null  int16 \n",
      " 4   creat_type_cd                838143 non-null  int8  \n",
      " 5   adv_prim_id                  838143 non-null  uint8 \n",
      " 6   dev_id                       838143 non-null  int8  \n",
      " 7   inter_type_cd                838143 non-null  int8  \n",
      " 8   slot_id                      838143 non-null  int8  \n",
      " 9   spread_app_id                838143 non-null  int8  \n",
      " 10  tags                         838143 non-null  int8  \n",
      " 11  app_first_class              838143 non-null  int8  \n",
      " 12  app_second_class             838143 non-null  int8  \n",
      " 13  age                          838143 non-null  int8  \n",
      " 14  city                         838143 non-null  int16 \n",
      " 15  city_rank                    838143 non-null  int8  \n",
      " 16  device_name                  838143 non-null  int8  \n",
      " 17  device_size                  838143 non-null  int16 \n",
      " 18  career                       838143 non-null  int8  \n",
      " 19  gender                       838143 non-null  int8  \n",
      " 20  net_type                     838143 non-null  int8  \n",
      " 21  residence                    838143 non-null  int8  \n",
      " 22  his_app_size                 838143 non-null  int8  \n",
      " 23  his_on_shelf_time            838143 non-null  int8  \n",
      " 24  app_score                    838143 non-null  int8  \n",
      " 25  emui_dev                     838143 non-null  int8  \n",
      " 26  list_time                    838143 non-null  int8  \n",
      " 27  device_price                 838143 non-null  int8  \n",
      " 28  up_life_duration             838143 non-null  int8  \n",
      " 29  up_membership_grade          838143 non-null  int8  \n",
      " 30  membership_life_duration     838143 non-null  int8  \n",
      " 31  consume_purchase             838143 non-null  int8  \n",
      " 32  communication_onlinerate     838143 non-null  object\n",
      " 33  communication_avgonline_30d  838143 non-null  int8  \n",
      " 34  indu_name                    838143 non-null  int8  \n",
      " 35  pt_d                         838143 non-null  int8  \n",
      "dtypes: int16(4), int32(1), int8(29), object(1), uint8(1)\n",
      "memory usage: 40.0+ MB\n"
     ]
    }
   ],
   "source": [
    "dataset_df.info(memory_usage=True, show_counts=True)"
   ]
  },
  {
   "cell_type": "markdown",
   "id": "2ce45068-b970-428a-9dee-b2f9dc613140",
   "metadata": {},
   "source": [
    "---\n",
    "# Export sampling dataset"
   ]
  },
  {
   "cell_type": "code",
   "execution_count": 5,
   "id": "2d8e915f-7b95-4f2a-8629-79a67837feba",
   "metadata": {},
   "outputs": [],
   "source": [
    "os.makedirs('../../data/processed/', exist_ok=True)\n",
    "dataset_df.to_csv('../../data/processed/train_data.csv', index=False, encoding='utf-8')"
   ]
  }
 ],
 "metadata": {
  "kernelspec": {
   "display_name": "Python 3 (ipykernel)",
   "language": "python",
   "name": "python3"
  },
  "language_info": {
   "codemirror_mode": {
    "name": "ipython",
    "version": 3
   },
   "file_extension": ".py",
   "mimetype": "text/x-python",
   "name": "python",
   "nbconvert_exporter": "python",
   "pygments_lexer": "ipython3",
   "version": "3.9.19"
  }
 },
 "nbformat": 4,
 "nbformat_minor": 5
}
